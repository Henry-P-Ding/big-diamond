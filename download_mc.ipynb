{
 "cells": [
  {
   "cell_type": "code",
   "execution_count": 78,
   "metadata": {},
   "outputs": [],
   "source": [
    "import subprocess\n",
    "import urllib\n",
    "from pathlib import Path\n",
    "import re\n",
    "from tqdm import tqdm\n",
    "import zipfile"
   ]
  },
  {
   "cell_type": "code",
   "execution_count": 69,
   "metadata": {},
   "outputs": [],
   "source": [
    "jar_url_table_location = \"https://gist.githubusercontent.com/cliffano/77a982a7503669c3e1acb0a0cf6127e9/raw/1868a831baa6ab466e506e638116e35ceaf025cd/minecraft-server-jar-downloads.md\""
   ]
  },
  {
   "cell_type": "code",
   "execution_count": 70,
   "metadata": {},
   "outputs": [],
   "source": [
    "with urllib.request.urlopen(jar_url_table_location) as jar_url_table:\n",
    "    jar_urls = jar_url_table.read()"
   ]
  },
  {
   "cell_type": "code",
   "execution_count": 71,
   "metadata": {},
   "outputs": [],
   "source": [
    "client_jars = [row.split(\"|\")[-2] for row in jar_urls.decode(\"utf-8\").split(\"\\n\")[2:]]\n",
    "versions = [row.split(\"|\")[1].strip() for row in jar_urls.decode(\"utf-8\").split(\"\\n\")[2:]]"
   ]
  },
  {
   "cell_type": "code",
   "execution_count": 73,
   "metadata": {},
   "outputs": [
    {
     "name": "stderr",
     "output_type": "stream",
     "text": [
      "100%|██████████| 791/791 [24:48<00:00,  1.88s/it]\n"
     ]
    }
   ],
   "source": [
    "for version, client_url in tqdm(list(zip(versions, client_jars))):\n",
    "    with urllib.request.urlopen(client_url) as client_request, open(f\"client_jars/{version}-client.jar\", \"wb\")as client_jar:\n",
    "        client_jar.write(client_request.read())"
   ]
  },
  {
   "cell_type": "code",
   "execution_count": 85,
   "metadata": {},
   "outputs": [
    {
     "name": "stderr",
     "output_type": "stream",
     "text": [
      "100%|██████████| 791/791 [17:44<00:00,  1.35s/it]\n"
     ]
    }
   ],
   "source": [
    "for jar in tqdm(list(Path(\"client_jars\").glob(\"*.jar\"))):\n",
    "    with zipfile.ZipFile(jar) as jar_file:\n",
    "        jar_file.extractall(Path(\"clients\", jar.name))"
   ]
  },
  {
   "cell_type": "code",
   "execution_count": null,
   "metadata": {},
   "outputs": [],
   "source": []
  }
 ],
 "metadata": {
  "kernelspec": {
   "display_name": ".venv",
   "language": "python",
   "name": "python3"
  },
  "language_info": {
   "codemirror_mode": {
    "name": "ipython",
    "version": 3
   },
   "file_extension": ".py",
   "mimetype": "text/x-python",
   "name": "python",
   "nbconvert_exporter": "python",
   "pygments_lexer": "ipython3",
   "version": "3.12.6"
  }
 },
 "nbformat": 4,
 "nbformat_minor": 2
}
